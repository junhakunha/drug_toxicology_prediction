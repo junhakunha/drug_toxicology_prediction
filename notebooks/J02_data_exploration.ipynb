{
 "cells": [
  {
   "cell_type": "code",
   "execution_count": 10,
   "metadata": {},
   "outputs": [],
   "source": [
    "import os\n",
    "import sys\n",
    "\n",
    "sys.path.append('../')\n",
    "\n",
    "from collections import defaultdict\n",
    "\n",
    "import numpy as np\n",
    "import matplotlib.pyplot as plt\n",
    "import pandas as pd\n",
    "\n",
    "from rdkit.Chem import AllChem\n",
    "\n",
    "\n",
    "from utils.constants import HOME_DIR, DATA_DIR"
   ]
  },
  {
   "cell_type": "code",
   "execution_count": 2,
   "metadata": {},
   "outputs": [],
   "source": [
    "data_path = os.path.join(DATA_DIR, 'clean_data.csv')\n",
    "data = pd.read_csv(data_path)"
   ]
  },
  {
   "cell_type": "code",
   "execution_count": 3,
   "metadata": {},
   "outputs": [
    {
     "data": {
      "text/html": [
       "<div>\n",
       "<style scoped>\n",
       "    .dataframe tbody tr th:only-of-type {\n",
       "        vertical-align: middle;\n",
       "    }\n",
       "\n",
       "    .dataframe tbody tr th {\n",
       "        vertical-align: top;\n",
       "    }\n",
       "\n",
       "    .dataframe thead th {\n",
       "        text-align: right;\n",
       "    }\n",
       "</style>\n",
       "<table border=\"1\" class=\"dataframe\">\n",
       "  <thead>\n",
       "    <tr style=\"text-align: right;\">\n",
       "      <th></th>\n",
       "      <th>Chemical_Name</th>\n",
       "      <th>Canonical_QSARr</th>\n",
       "      <th>LD50_mgkg</th>\n",
       "    </tr>\n",
       "  </thead>\n",
       "  <tbody>\n",
       "    <tr>\n",
       "      <th>0</th>\n",
       "      <td>1-Chloro-4-nitrobenzene</td>\n",
       "      <td>[O-][N+](=O)C1C=CC(Cl)=CC=1</td>\n",
       "      <td>460.00</td>\n",
       "    </tr>\n",
       "    <tr>\n",
       "      <th>1</th>\n",
       "      <td>4-Nitroaniline</td>\n",
       "      <td>NC1=CC=C(C=C1)[N+]([O-])=O</td>\n",
       "      <td>750.00</td>\n",
       "    </tr>\n",
       "    <tr>\n",
       "      <th>2</th>\n",
       "      <td>4-Nitrophenol</td>\n",
       "      <td>[O-][N+](=O)C1C=CC(O)=CC=1</td>\n",
       "      <td>170.00</td>\n",
       "    </tr>\n",
       "    <tr>\n",
       "      <th>3</th>\n",
       "      <td>4-Nitrobenzyl chloride</td>\n",
       "      <td>[O-][N+](=O)C1C=CC(CCl)=CC=1</td>\n",
       "      <td>1809.00</td>\n",
       "    </tr>\n",
       "    <tr>\n",
       "      <th>4</th>\n",
       "      <td>p-Nitroanisole</td>\n",
       "      <td>COC1C=CC(=CC=1)[N+]([O-])=O</td>\n",
       "      <td>2300.00</td>\n",
       "    </tr>\n",
       "    <tr>\n",
       "      <th>...</th>\n",
       "      <td>...</td>\n",
       "      <td>...</td>\n",
       "      <td>...</td>\n",
       "    </tr>\n",
       "    <tr>\n",
       "      <th>5301</th>\n",
       "      <td>Phosphonothioic acid, O,O-diethyl ester</td>\n",
       "      <td>CCOP(=S)OCC</td>\n",
       "      <td>200.00</td>\n",
       "    </tr>\n",
       "    <tr>\n",
       "      <th>5302</th>\n",
       "      <td>Phosphonodithious acid, methyl-, dipropyl ester</td>\n",
       "      <td>CP(SCCC)SCCC</td>\n",
       "      <td>2.24</td>\n",
       "    </tr>\n",
       "    <tr>\n",
       "      <th>5303</th>\n",
       "      <td>2-Hydroxypropyl acrylate</td>\n",
       "      <td>CC(O)COC(=O)C=C</td>\n",
       "      <td>250.00</td>\n",
       "    </tr>\n",
       "    <tr>\n",
       "      <th>5304</th>\n",
       "      <td>Chlormequat chloride</td>\n",
       "      <td>C[N+](C)(C)CCCl</td>\n",
       "      <td>600.00</td>\n",
       "    </tr>\n",
       "    <tr>\n",
       "      <th>5305</th>\n",
       "      <td>Hexamethyldisilazane</td>\n",
       "      <td>C[Si](C)(C)N[Si](C)(C)C</td>\n",
       "      <td>847.00</td>\n",
       "    </tr>\n",
       "  </tbody>\n",
       "</table>\n",
       "<p>5306 rows × 3 columns</p>\n",
       "</div>"
      ],
      "text/plain": [
       "                                        Chemical_Name  \\\n",
       "0                             1-Chloro-4-nitrobenzene   \n",
       "1                                      4-Nitroaniline   \n",
       "2                                       4-Nitrophenol   \n",
       "3                              4-Nitrobenzyl chloride   \n",
       "4                                      p-Nitroanisole   \n",
       "...                                               ...   \n",
       "5301          Phosphonothioic acid, O,O-diethyl ester   \n",
       "5302  Phosphonodithious acid, methyl-, dipropyl ester   \n",
       "5303                         2-Hydroxypropyl acrylate   \n",
       "5304                             Chlormequat chloride   \n",
       "5305                             Hexamethyldisilazane   \n",
       "\n",
       "                   Canonical_QSARr  LD50_mgkg  \n",
       "0      [O-][N+](=O)C1C=CC(Cl)=CC=1     460.00  \n",
       "1       NC1=CC=C(C=C1)[N+]([O-])=O     750.00  \n",
       "2       [O-][N+](=O)C1C=CC(O)=CC=1     170.00  \n",
       "3     [O-][N+](=O)C1C=CC(CCl)=CC=1    1809.00  \n",
       "4      COC1C=CC(=CC=1)[N+]([O-])=O    2300.00  \n",
       "...                            ...        ...  \n",
       "5301                   CCOP(=S)OCC     200.00  \n",
       "5302                  CP(SCCC)SCCC       2.24  \n",
       "5303               CC(O)COC(=O)C=C     250.00  \n",
       "5304               C[N+](C)(C)CCCl     600.00  \n",
       "5305       C[Si](C)(C)N[Si](C)(C)C     847.00  \n",
       "\n",
       "[5306 rows x 3 columns]"
      ]
     },
     "execution_count": 3,
     "metadata": {},
     "output_type": "execute_result"
    }
   ],
   "source": [
    "data"
   ]
  },
  {
   "cell_type": "code",
   "execution_count": null,
   "metadata": {},
   "outputs": [
    {
     "data": {
      "image/png": "[encoded data removed]",
      "text/plain": [
       "<Figure size 640x480 with 1 Axes>"
      ]
     },
     "metadata": {},
     "output_type": "display_data"
    }
   ],
   "source": [
    "LD50 = data['LD50_mgkg']\n",
    "\n",
    "# Plot the histogram of the LD50 values\n",
    "plt.hist(np.log(LD50), bins=50, color='blue', edgecolor='black')\n",
    "plt.xlabel('LD50 (mg/kg)')\n",
    "plt.ylabel('Frequency')\n",
    "plt.title('Histogram of LD50 values')\n",
    "plt.show()"
   ]
  },
  {
   "cell_type": "code",
   "execution_count": 24,
   "metadata": {},
   "outputs": [
    {
     "data": {
      "image/png": "[encoded data removed]",
      "text/plain": [
       "<Figure size 640x480 with 1 Axes>"
      ]
     },
     "metadata": {},
     "output_type": "display_data"
    }
   ],
   "source": [
    "ln_LD50 = np.log(data['LD50_mgkg'])\n",
    "\n",
    "# Plot the histogram of the LD50 values\n",
    "plt.hist(ln_LD50, bins=50, color='blue', edgecolor='black')\n",
    "plt.xlabel('LD50 (mg/kg)')\n",
    "plt.ylabel('Frequency')\n",
    "plt.title('Histogram of LD50 values')\n",
    "plt.show()"
   ]
  },
  {
   "cell_type": "code",
   "execution_count": null,
   "metadata": {},
   "outputs": [],
   "source": [
    "Canonical_QSARr = data['Canonical_QSARr']\n",
    "atom_counts = defaultdict(int)\n",
    "\n",
    "mols = [AllChem.AddHs(AllChem.MolFromSmiles(smile)) for smile in Canonical_QSARr]\n",
    "\n",
    "for mol in mols:\n",
    "    for atom in mol.GetAtoms():\n",
    "        atom_counts[atom.GetSymbol()] += 1"
   ]
  },
  {
   "cell_type": "code",
   "execution_count": 17,
   "metadata": {},
   "outputs": [
    {
     "data": {
      "text/plain": [
       "dict_keys(['O', 'N', 'C', 'Cl', 'H', 'S', 'B', 'Si', 'P', 'F', 'Br', 'Se', 'I'])"
      ]
     },
     "execution_count": 17,
     "metadata": {},
     "output_type": "execute_result"
    }
   ],
   "source": [
    "atom_counts.keys()"
   ]
  },
  {
   "cell_type": "code",
   "execution_count": 18,
   "metadata": {},
   "outputs": [],
   "source": [
    "# Turn atom names to atomic numbers\n",
    "atom_numbers = {atom: AllChem.GetPeriodicTable().GetAtomicNumber(atom) for atom in atom_counts.keys()}"
   ]
  },
  {
   "cell_type": "code",
   "execution_count": 23,
   "metadata": {},
   "outputs": [
    {
     "data": {
      "text/plain": [
       "[1, 5, 6, 7, 8, 9, 14, 15, 16, 17, 34, 35, 53]"
      ]
     },
     "execution_count": 23,
     "metadata": {},
     "output_type": "execute_result"
    }
   ],
   "source": [
    "nums = list(atom_numbers.values())\n",
    "nums.sort()\n",
    "nums"
   ]
  },
  {
   "cell_type": "code",
   "execution_count": null,
   "metadata": {},
   "outputs": [],
   "source": []
  }
 ],
 "metadata": {
  "kernelspec": {
   "display_name": "venv",
   "language": "python",
   "name": "python3"
  },
  "language_info": {
   "codemirror_mode": {
    "name": "ipython",
    "version": 3
   },
   "file_extension": ".py",
   "mimetype": "text/x-python",
   "name": "python",
   "nbconvert_exporter": "python",
   "pygments_lexer": "ipython3",
   "version": "3.10.7"
  }
 },
 "nbformat": 4,
 "nbformat_minor": 2
}
