{
 "cells": [
  {
   "cell_type": "code",
   "execution_count": 12,
   "metadata": {},
   "outputs": [],
   "source": [
    "import os\n",
    "import sys\n",
    "\n",
    "sys.path.append('../')\n",
    "\n",
    "import numpy as np\n",
    "import pandas as pd\n",
    "import matplotlib.pyplot as plt\n",
    "import seaborn as sns\n",
    "\n",
    "from rdkit.Chem import AllChem\n",
    "\n",
    "from utils.constants import HOME_DIR, DATA_DIR"
   ]
  },
  {
   "cell_type": "code",
   "execution_count": 13,
   "metadata": {},
   "outputs": [],
   "source": [
    "data_path = DATA_DIR + 'clean_data.csv'\n",
    "data = pd.read_csv(data_path)"
   ]
  },
  {
   "cell_type": "code",
   "execution_count": 14,
   "metadata": {},
   "outputs": [
    {
     "data": {
      "text/html": [
       "<div>\n",
       "<style scoped>\n",
       "    .dataframe tbody tr th:only-of-type {\n",
       "        vertical-align: middle;\n",
       "    }\n",
       "\n",
       "    .dataframe tbody tr th {\n",
       "        vertical-align: top;\n",
       "    }\n",
       "\n",
       "    .dataframe thead th {\n",
       "        text-align: right;\n",
       "    }\n",
       "</style>\n",
       "<table border=\"1\" class=\"dataframe\">\n",
       "  <thead>\n",
       "    <tr style=\"text-align: right;\">\n",
       "      <th></th>\n",
       "      <th>Chemical_Name</th>\n",
       "      <th>Canonical_QSARr</th>\n",
       "      <th>LD50_mgkg</th>\n",
       "    </tr>\n",
       "  </thead>\n",
       "  <tbody>\n",
       "    <tr>\n",
       "      <th>0</th>\n",
       "      <td>1-Chloro-4-nitrobenzene</td>\n",
       "      <td>[O-][N+](=O)C1C=CC(Cl)=CC=1</td>\n",
       "      <td>460.00</td>\n",
       "    </tr>\n",
       "    <tr>\n",
       "      <th>1</th>\n",
       "      <td>4-Nitroaniline</td>\n",
       "      <td>NC1=CC=C(C=C1)[N+]([O-])=O</td>\n",
       "      <td>750.00</td>\n",
       "    </tr>\n",
       "    <tr>\n",
       "      <th>2</th>\n",
       "      <td>4-Nitrophenol</td>\n",
       "      <td>[O-][N+](=O)C1C=CC(O)=CC=1</td>\n",
       "      <td>170.00</td>\n",
       "    </tr>\n",
       "    <tr>\n",
       "      <th>3</th>\n",
       "      <td>4-Nitrobenzyl chloride</td>\n",
       "      <td>[O-][N+](=O)C1C=CC(CCl)=CC=1</td>\n",
       "      <td>1809.00</td>\n",
       "    </tr>\n",
       "    <tr>\n",
       "      <th>4</th>\n",
       "      <td>p-Nitroanisole</td>\n",
       "      <td>COC1C=CC(=CC=1)[N+]([O-])=O</td>\n",
       "      <td>2300.00</td>\n",
       "    </tr>\n",
       "    <tr>\n",
       "      <th>...</th>\n",
       "      <td>...</td>\n",
       "      <td>...</td>\n",
       "      <td>...</td>\n",
       "    </tr>\n",
       "    <tr>\n",
       "      <th>5301</th>\n",
       "      <td>Phosphonothioic acid, O,O-diethyl ester</td>\n",
       "      <td>CCOP(=S)OCC</td>\n",
       "      <td>200.00</td>\n",
       "    </tr>\n",
       "    <tr>\n",
       "      <th>5302</th>\n",
       "      <td>Phosphonodithious acid, methyl-, dipropyl ester</td>\n",
       "      <td>CP(SCCC)SCCC</td>\n",
       "      <td>2.24</td>\n",
       "    </tr>\n",
       "    <tr>\n",
       "      <th>5303</th>\n",
       "      <td>2-Hydroxypropyl acrylate</td>\n",
       "      <td>CC(O)COC(=O)C=C</td>\n",
       "      <td>250.00</td>\n",
       "    </tr>\n",
       "    <tr>\n",
       "      <th>5304</th>\n",
       "      <td>Chlormequat chloride</td>\n",
       "      <td>C[N+](C)(C)CCCl</td>\n",
       "      <td>600.00</td>\n",
       "    </tr>\n",
       "    <tr>\n",
       "      <th>5305</th>\n",
       "      <td>Hexamethyldisilazane</td>\n",
       "      <td>C[Si](C)(C)N[Si](C)(C)C</td>\n",
       "      <td>847.00</td>\n",
       "    </tr>\n",
       "  </tbody>\n",
       "</table>\n",
       "<p>5306 rows × 3 columns</p>\n",
       "</div>"
      ],
      "text/plain": [
       "                                        Chemical_Name  \\\n",
       "0                             1-Chloro-4-nitrobenzene   \n",
       "1                                      4-Nitroaniline   \n",
       "2                                       4-Nitrophenol   \n",
       "3                              4-Nitrobenzyl chloride   \n",
       "4                                      p-Nitroanisole   \n",
       "...                                               ...   \n",
       "5301          Phosphonothioic acid, O,O-diethyl ester   \n",
       "5302  Phosphonodithious acid, methyl-, dipropyl ester   \n",
       "5303                         2-Hydroxypropyl acrylate   \n",
       "5304                             Chlormequat chloride   \n",
       "5305                             Hexamethyldisilazane   \n",
       "\n",
       "                   Canonical_QSARr  LD50_mgkg  \n",
       "0      [O-][N+](=O)C1C=CC(Cl)=CC=1     460.00  \n",
       "1       NC1=CC=C(C=C1)[N+]([O-])=O     750.00  \n",
       "2       [O-][N+](=O)C1C=CC(O)=CC=1     170.00  \n",
       "3     [O-][N+](=O)C1C=CC(CCl)=CC=1    1809.00  \n",
       "4      COC1C=CC(=CC=1)[N+]([O-])=O    2300.00  \n",
       "...                            ...        ...  \n",
       "5301                   CCOP(=S)OCC     200.00  \n",
       "5302                  CP(SCCC)SCCC       2.24  \n",
       "5303               CC(O)COC(=O)C=C     250.00  \n",
       "5304               C[N+](C)(C)CCCl     600.00  \n",
       "5305       C[Si](C)(C)N[Si](C)(C)C     847.00  \n",
       "\n",
       "[5306 rows x 3 columns]"
      ]
     },
     "execution_count": 14,
     "metadata": {},
     "output_type": "execute_result"
    }
   ],
   "source": [
    "data"
   ]
  },
  {
   "cell_type": "code",
   "execution_count": 15,
   "metadata": {},
   "outputs": [
    {
     "name": "stdout",
     "output_type": "stream",
     "text": [
      "[O-][N+](=O)C1C=CC(Cl)=CC=1\n"
     ]
    }
   ],
   "source": [
    "sample_smile = data['Canonical_QSARr'][0]\n",
    "print(sample_smile)\n",
    "mol = AllChem.MolFromSmiles(sample_smile)\n",
    "mol = AllChem.AddHs(mol)\n",
    "AllChem.ComputeGasteigerCharges(mol)"
   ]
  },
  {
   "cell_type": "code",
   "execution_count": 16,
   "metadata": {},
   "outputs": [
    {
     "data": {
      "image/png": "[encoded data removed]",
      "text/plain": [
       "<rdkit.Chem.rdchem.Mol at 0x15a4573e0>"
      ]
     },
     "execution_count": 16,
     "metadata": {},
     "output_type": "execute_result"
    }
   ],
   "source": [
    "mol"
   ]
  },
  {
   "cell_type": "code",
   "execution_count": 17,
   "metadata": {},
   "outputs": [
    {
     "name": "stdout",
     "output_type": "stream",
     "text": [
      "Atomic Number:  8\n",
      "Atomic Number:  7\n",
      "Atomic Number:  8\n",
      "Atomic Number:  6\n",
      "Atomic Number:  6\n",
      "Atomic Number:  6\n",
      "Atomic Number:  6\n",
      "Atomic Number:  17\n",
      "Atomic Number:  6\n",
      "Atomic Number:  6\n",
      "Atomic Number:  1\n",
      "Atomic Number:  1\n",
      "Atomic Number:  1\n",
      "Atomic Number:  1\n"
     ]
    }
   ],
   "source": [
    "# print all the atoms and their charges and coordinates and atomic numbers\n",
    "\n",
    "for atom in mol.GetAtoms():\n",
    "    print('Atomic Number: ', atom.GetAtomicNum())"
   ]
  },
  {
   "cell_type": "code",
   "execution_count": 30,
   "metadata": {},
   "outputs": [],
   "source": [
    "x = data['Canonical_QSARr']\n",
    "\n",
    "y = data['LD50_mgkg'].to_list()"
   ]
  },
  {
   "cell_type": "code",
   "execution_count": null,
   "metadata": {},
   "outputs": [],
   "source": [
    "from rdkit import Chem\n",
    "from torch_geometric.data import Data\n",
    "import torch\n",
    "\n",
    "def smiles_to_graph(smiles_list, labels):\n",
    "    data_list = []\n",
    "    for smiles, label in zip(smiles_list, labels):\n",
    "        mol = Chem.MolFromSmiles(smiles)\n",
    "        if mol is None:\n",
    "            continue  # Skip invalid SMILES strings\n",
    "\n",
    "        # Node features: Example - atomic number\n",
    "        node_features = []\n",
    "        for atom in mol.GetAtoms():\n",
    "            node_features.append([atom.GetAtomicNum()])\n",
    "        x = torch.tensor(node_features, dtype=torch.float)\n",
    "\n",
    "        # Edge indices and edge attributes\n",
    "        edge_indices = []\n",
    "        for bond in mol.GetBonds():\n",
    "            i = bond.GetBeginAtomIdx()\n",
    "            j = bond.GetEndAtomIdx()\n",
    "            edge_indices.append((i, j))\n",
    "            edge_indices.append((j, i))  # Undirected graph\n",
    "        edge_index = torch.tensor(edge_indices, dtype=torch.long).t().contiguous()\n",
    "\n",
    "        # Target value\n",
    "        y = torch.tensor([label], dtype=torch.float)\n",
    "\n",
    "        # Create PyTorch Geometric Data object\n",
    "        data = Data(x=x, edge_index=edge_index, y=y)\n",
    "        data_list.append(data)\n",
    "    return data_list\n"
   ]
  },
  {
   "cell_type": "code",
   "execution_count": 31,
   "metadata": {},
   "outputs": [],
   "source": [
    "from torch_geometric.loader import DataLoader\n",
    "\n",
    "# Convert to PyTorch Geometric Data objects\n",
    "data_list = smiles_to_graph(x, y)\n",
    "\n",
    "# Create DataLoader for batching\n",
    "dataloader = DataLoader(data_list, batch_size=16, shuffle=True)"
   ]
  },
  {
   "cell_type": "code",
   "execution_count": 32,
   "metadata": {},
   "outputs": [
    {
     "name": "stdout",
     "output_type": "stream",
     "text": [
      "DataBatch(x=[275, 1], edge_index=[2, 574], y=[16], batch=[275], ptr=[17])\n"
     ]
    }
   ],
   "source": [
    "for data in dataloader:\n",
    "    print(data)\n",
    "    break"
   ]
  },
  {
   "cell_type": "code",
   "execution_count": 33,
   "metadata": {},
   "outputs": [],
   "source": [
    "import torch.nn as nn\n",
    "import torch.nn.functional as F\n",
    "from torch_geometric.nn import GCNConv\n",
    "\n",
    "class GCNRegressionModel(nn.Module):\n",
    "    def __init__(self, input_dim):\n",
    "        super().__init__()\n",
    "        self.conv1 = GCNConv(input_dim, 64)  # First GCN layer\n",
    "        self.conv2 = GCNConv(64, 32)         # Second GCN layer\n",
    "        self.fc = nn.Linear(32, 1)          # Fully connected layer for regression\n",
    "\n",
    "    def forward(self, data):\n",
    "        x, edge_index = data.x, data.edge_index\n",
    "\n",
    "        # Apply GCN layers with ReLU activation\n",
    "        x = self.conv1(x, edge_index)\n",
    "        x = F.relu(x)\n",
    "        x = self.conv2(x, edge_index)\n",
    "        x = F.relu(x)\n",
    "\n",
    "        # Global pooling (mean pooling over nodes)\n",
    "        x = torch.mean(x, dim=0)\n",
    "\n",
    "        # Fully connected layer for regression output\n",
    "        out = self.fc(x)\n",
    "        return out"
   ]
  },
  {
   "cell_type": "code",
   "execution_count": 34,
   "metadata": {},
   "outputs": [
    {
     "name": "stderr",
     "output_type": "stream",
     "text": [
      "/Users/junhalee/Desktop/CHEM 263/Final Project/drug_toxicology_prediction/venv/lib/python3.10/site-packages/torch/nn/modules/loss.py:608: UserWarning: Using a target size (torch.Size([16])) that is different to the input size (torch.Size([])). This will likely lead to incorrect results due to broadcasting. Please ensure they have the same size.\n",
      "  return F.mse_loss(input, target, reduction=self.reduction)\n",
      "/Users/junhalee/Desktop/CHEM 263/Final Project/drug_toxicology_prediction/venv/lib/python3.10/site-packages/torch/nn/modules/loss.py:608: UserWarning: Using a target size (torch.Size([10])) that is different to the input size (torch.Size([])). This will likely lead to incorrect results due to broadcasting. Please ensure they have the same size.\n",
      "  return F.mse_loss(input, target, reduction=self.reduction)\n"
     ]
    },
    {
     "name": "stdout",
     "output_type": "stream",
     "text": [
      "Epoch 1, Loss: 6364279882.9375\n",
      "Epoch 2, Loss: 6098812830.3750\n",
      "Epoch 3, Loss: 6114003842.1250\n",
      "Epoch 4, Loss: 6104236687.2500\n",
      "Epoch 5, Loss: 6088794963.6250\n",
      "Epoch 6, Loss: 6101324702.2500\n",
      "Epoch 7, Loss: 6090794258.5000\n",
      "Epoch 8, Loss: 6085036592.7500\n",
      "Epoch 9, Loss: 6096812072.5000\n",
      "Epoch 10, Loss: 6103342086.3750\n",
      "Epoch 11, Loss: 6106719163.3750\n",
      "Epoch 12, Loss: 6084526285.3750\n",
      "Epoch 13, Loss: 6123077956.0000\n",
      "Epoch 14, Loss: 6113097194.3750\n",
      "Epoch 15, Loss: 6092173679.1250\n",
      "Epoch 16, Loss: 6098899526.5000\n",
      "Epoch 17, Loss: 6099058580.1250\n",
      "Epoch 18, Loss: 6096694126.5000\n",
      "Epoch 19, Loss: 6111740236.2500\n",
      "Epoch 20, Loss: 6092225469.1250\n",
      "Epoch 21, Loss: 6083584494.1250\n",
      "Epoch 22, Loss: 6092783851.8750\n",
      "Epoch 23, Loss: 6101999293.5000\n",
      "Epoch 24, Loss: 6094077073.0000\n",
      "Epoch 25, Loss: 6095956455.5000\n",
      "Epoch 26, Loss: 6087541227.7500\n",
      "Epoch 27, Loss: 6092731232.6250\n",
      "Epoch 28, Loss: 6096381173.7500\n",
      "Epoch 29, Loss: 6092780543.5000\n",
      "Epoch 30, Loss: 6103622194.2500\n",
      "Epoch 31, Loss: 6132072317.0000\n",
      "Epoch 32, Loss: 6107222014.1250\n",
      "Epoch 33, Loss: 6089548442.6250\n",
      "Epoch 34, Loss: 6097374770.2500\n",
      "Epoch 35, Loss: 6106487251.6250\n",
      "Epoch 36, Loss: 6093627120.1250\n",
      "Epoch 37, Loss: 6098492779.7500\n",
      "Epoch 38, Loss: 6099667893.8750\n",
      "Epoch 39, Loss: 6095593632.0000\n",
      "Epoch 40, Loss: 6090505697.6250\n",
      "Epoch 41, Loss: 6117548526.6250\n",
      "Epoch 42, Loss: 6098581465.6250\n",
      "Epoch 43, Loss: 6100562729.1250\n",
      "Epoch 44, Loss: 6100922499.3750\n",
      "Epoch 45, Loss: 6099568609.6250\n",
      "Epoch 46, Loss: 6109628140.7500\n",
      "Epoch 47, Loss: 6103465323.0000\n",
      "Epoch 48, Loss: 6088697417.1250\n",
      "Epoch 49, Loss: 6110272909.2500\n",
      "Epoch 50, Loss: 6099385200.3750\n",
      "Epoch 51, Loss: 6091606324.5000\n",
      "Epoch 52, Loss: 6094588634.2500\n",
      "Epoch 53, Loss: 6100553923.0000\n",
      "Epoch 54, Loss: 6104639426.7500\n",
      "Epoch 55, Loss: 6093386052.6250\n",
      "Epoch 56, Loss: 6078749283.0000\n",
      "Epoch 57, Loss: 6095376455.7500\n",
      "Epoch 58, Loss: 6097144739.7500\n",
      "Epoch 59, Loss: 6094947876.8750\n",
      "Epoch 60, Loss: 6093290335.8750\n",
      "Epoch 61, Loss: 6123200232.1250\n",
      "Epoch 62, Loss: 6095642070.3750\n",
      "Epoch 63, Loss: 6099931567.6250\n",
      "Epoch 64, Loss: 6092347329.0000\n",
      "Epoch 65, Loss: 6090829432.3750\n",
      "Epoch 66, Loss: 6096747415.8750\n",
      "Epoch 67, Loss: 6097000507.6250\n",
      "Epoch 68, Loss: 6089481531.3750\n",
      "Epoch 69, Loss: 6094173746.0000\n",
      "Epoch 70, Loss: 6105171862.2500\n",
      "Epoch 71, Loss: 6096528915.1250\n",
      "Epoch 72, Loss: 6082669475.0000\n",
      "Epoch 73, Loss: 6098233226.2500\n",
      "Epoch 74, Loss: 6081711452.1250\n",
      "Epoch 75, Loss: 6101765685.8750\n",
      "Epoch 76, Loss: 6091182270.0000\n",
      "Epoch 77, Loss: 6089109892.5000\n",
      "Epoch 78, Loss: 6092380125.0000\n",
      "Epoch 79, Loss: 6097724971.6250\n",
      "Epoch 80, Loss: 6091082702.8750\n",
      "Epoch 81, Loss: 6080098194.7500\n",
      "Epoch 82, Loss: 6100063678.7500\n",
      "Epoch 83, Loss: 6084357699.7500\n",
      "Epoch 84, Loss: 6089814585.0000\n",
      "Epoch 85, Loss: 6098289246.7500\n",
      "Epoch 86, Loss: 6098961352.7500\n",
      "Epoch 87, Loss: 6093137929.0000\n",
      "Epoch 88, Loss: 6095570181.5000\n",
      "Epoch 89, Loss: 6089845127.8750\n",
      "Epoch 90, Loss: 6096870041.2500\n",
      "Epoch 91, Loss: 6094883669.3750\n",
      "Epoch 92, Loss: 6301462499.8750\n",
      "Epoch 93, Loss: 6099610131.0000\n",
      "Epoch 94, Loss: 6086482163.7500\n",
      "Epoch 95, Loss: 6093344879.1250\n",
      "Epoch 96, Loss: 6108705404.1250\n",
      "Epoch 97, Loss: 6130014850.2500\n",
      "Epoch 98, Loss: 6088106473.5000\n",
      "Epoch 99, Loss: 6096944318.3750\n",
      "Epoch 100, Loss: 6085388312.1250\n"
     ]
    }
   ],
   "source": [
    "\n",
    "device = torch.device('cuda' if torch.cuda.is_available() else 'cpu')\n",
    "model = GCNRegressionModel(input_dim=1).to(device)  # Adjust input_dim based on node features\n",
    "optimizer = torch.optim.Adam(model.parameters(), lr=0.01)\n",
    "criterion = nn.MSELoss()\n",
    "\n",
    "# Training loop\n",
    "for epoch in range(100):\n",
    "    model.train()\n",
    "    total_loss = 0\n",
    "\n",
    "    for batch in dataloader:\n",
    "        batch = batch.to(device)\n",
    "        \n",
    "        optimizer.zero_grad()\n",
    "        out = model(batch)\n",
    "        \n",
    "        loss = criterion(out.squeeze(), batch.y)\n",
    "        loss.backward()\n",
    "        \n",
    "        optimizer.step()\n",
    "        total_loss += loss.item()\n",
    "\n",
    "    print(f\"Epoch {epoch+1}, Loss: {total_loss:.4f}\")"
   ]
  },
  {
   "cell_type": "code",
   "execution_count": 22,
   "metadata": {},
   "outputs": [],
   "source": [
    "geometric_data = smiles_to_graph([sample_smile], [1])[0]"
   ]
  },
  {
   "cell_type": "code",
   "execution_count": 24,
   "metadata": {},
   "outputs": [
    {
     "data": {
      "text/plain": [
       "Data(x=[10, 1], edge_index=[2, 20], y=[1])"
      ]
     },
     "execution_count": 24,
     "metadata": {},
     "output_type": "execute_result"
    }
   ],
   "source": [
    "geometric_data"
   ]
  },
  {
   "cell_type": "code",
   "execution_count": 23,
   "metadata": {},
   "outputs": [
    {
     "data": {
      "image/png": "[encoded data removed]",
      "text/plain": [
       "<Figure size 800x800 with 1 Axes>"
      ]
     },
     "metadata": {},
     "output_type": "display_data"
    }
   ],
   "source": [
    "# visualize the graph of geometric_data\n",
    "import networkx as nx\n",
    "import matplotlib.pyplot as plt\n",
    "\n",
    "G = nx.Graph()\n",
    "edge_index = geometric_data.edge_index.cpu().numpy()\n",
    "for i, j in edge_index.T:\n",
    "    G.add_edge(i, j)\n",
    "\n",
    "plt.figure(figsize=(8, 8))\n",
    "nx.draw(G, with_labels=True, node_color=[[.7, .7, .7]])\n",
    "plt.show()\n"
   ]
  },
  {
   "cell_type": "code",
   "execution_count": null,
   "metadata": {},
   "outputs": [],
   "source": []
  }
 ],
 "metadata": {
  "kernelspec": {
   "display_name": "venv",
   "language": "python",
   "name": "python3"
  },
  "language_info": {
   "codemirror_mode": {
    "name": "ipython",
    "version": 3
   },
   "file_extension": ".py",
   "mimetype": "text/x-python",
   "name": "python",
   "nbconvert_exporter": "python",
   "pygments_lexer": "ipython3",
   "version": "3.10.7"
  }
 },
 "nbformat": 4,
 "nbformat_minor": 2
}
