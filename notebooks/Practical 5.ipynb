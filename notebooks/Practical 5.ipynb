{
 "cells": [
  {
   "cell_type": "markdown",
   "metadata": {
    "cell_id": "0cd33afea18e49048cfe259f8c3e2967",
    "deepnote_app_coordinates": {
     "h": 5,
     "w": 12,
     "x": 0,
     "y": null
    },
    "deepnote_cell_type": "markdown",
    "id": "GvUtIMHHBYtu",
    "tags": []
   },
   "source": [
    "# Practical 5: Graph Neural Networks\n",
    "\n",
    "In this practical, we'll be using some of the GNN architectures discussed in class to predict the solubility of small molecules (using our old friend, the ESOL database)."
   ]
  },
  {
   "cell_type": "code",
   "execution_count": 3,
   "metadata": {},
   "outputs": [],
   "source": [
    "import os\n",
    "import sys\n",
    "\n",
    "sys.path.append('../')\n",
    "\n",
    "from utils.constants import HOME_DIR, DATA_DIR"
   ]
  },
  {
   "cell_type": "code",
   "execution_count": 1,
   "metadata": {
    "cell_id": "21f80631f1d84f21814ea3f23ca5a811",
    "colab": {
     "base_uri": "https://localhost:8080/"
    },
    "deepnote_app_coordinates": {
     "h": 5,
     "w": 12,
     "x": 0,
     "y": 6
    },
    "deepnote_cell_type": "code",
    "deepnote_to_be_reexecuted": false,
    "executionInfo": {
     "elapsed": 28397,
     "status": "ok",
     "timestamp": 1731090406405,
     "user": {
      "displayName": "Nicholas Juntunen",
      "userId": "03577176280817795526"
     },
     "user_tz": 480
    },
    "execution_millis": 5154,
    "execution_start": 1635389504745,
    "id": "MbkpCH7TBYtw",
    "outputId": "dbf6eea9-e7c2-4f3b-d7be-7850efd558d0",
    "source_hash": "faf785e0",
    "tags": []
   },
   "outputs": [
    {
     "name": "stdout",
     "output_type": "stream",
     "text": [
      "Requirement already satisfied: rdkit in /Users/junhalee/Desktop/CHEM 263/Final Project/drug_toxicology_prediction/venv/lib/python3.10/site-packages (2024.3.6)\n",
      "Requirement already satisfied: numpy in /Users/junhalee/Desktop/CHEM 263/Final Project/drug_toxicology_prediction/venv/lib/python3.10/site-packages (from rdkit) (2.2.0)\n",
      "Requirement already satisfied: Pillow in /Users/junhalee/Desktop/CHEM 263/Final Project/drug_toxicology_prediction/venv/lib/python3.10/site-packages (from rdkit) (11.0.0)\n"
     ]
    }
   ],
   "source": [
    "! pip install rdkit\n",
    "import numpy as np\n",
    "import pandas as pd\n",
    "import scipy.linalg as linalg\n",
    "import rdkit.Chem as Chem\n",
    "from rdkit.Chem import AllChem\n",
    "import torch\n",
    "import matplotlib.pyplot as plt"
   ]
  },
  {
   "cell_type": "markdown",
   "metadata": {
    "cell_id": "39997615aad64772beb5c0b8a1469228",
    "deepnote_app_coordinates": {
     "h": 5,
     "w": 12,
     "x": 0,
     "y": 12
    },
    "deepnote_cell_type": "markdown",
    "deepnote_to_be_reexecuted": false,
    "execution_millis": 1,
    "execution_start": 1635285642475,
    "id": "g6nywFMOBYtx",
    "source_hash": "b623e53d",
    "tags": []
   },
   "source": [
    "## Part 1: Semi-Supervised Learning with GCNs\n",
    "\n",
    "Our first approach will be to apply a standard Graph Convolutional Network (GCN) to the data.\n",
    "\n",
    "We first need a function that, given a molecule (as represented by a SMILES string), returns the molecular graph (i.e. a matrix of feature vectors for each atom and the adjacency matrix; we'll also return the number of atoms in the molecule, for use later). This function is written for you below. For the sake of simplicity, we will use a simple one-hot encoding of atomic number for our atom features. More complicated graphs could make use of any other atom-level descriptors available in RDKit.\n"
   ]
  },
  {
   "cell_type": "code",
   "execution_count": 2,
   "metadata": {
    "cell_id": "bf8794a278684bf9a87acbf95bbee5c8",
    "deepnote_app_coordinates": {
     "h": 5,
     "w": 12,
     "x": 0,
     "y": 18
    },
    "deepnote_cell_type": "code",
    "deepnote_to_be_reexecuted": false,
    "execution_millis": 17,
    "execution_start": 1635376753008,
    "id": "s0tYt6UgBYtx",
    "source_hash": "b5e4ed2d",
    "tags": []
   },
   "outputs": [],
   "source": [
    "def generate_graph(smile):\n",
    "\n",
    "    def get_atom_hash(atomic_number):\n",
    "        \"\"\" A helper function to quickly encode atomic number into a one-hot vector \"\"\"\n",
    "        atomic_number_list = [6, 7, 8, 9, 15, 16, 17, 35, 53]\n",
    "        if atomic_number in atomic_number_list:\n",
    "            return atomic_number_list.index(atomic_number)\n",
    "        else:\n",
    "            return len(atomic_number_list)\n",
    "\n",
    "    def encode_atom(atom):\n",
    "        \"\"\" Generates the vector of features for an atom in a molecule\"\"\"\n",
    "        atom_matrix = np.zeros(10)\n",
    "        atom_matrix[get_atom_hash(atom.GetAtomicNum())] = 1\n",
    "        return atom_matrix\n",
    "\n",
    "    m = AllChem.MolFromSmiles(smile)\n",
    "    m = AllChem.AddHs(m)\n",
    "    AllChem.ComputeGasteigerCharges(m)\n",
    "    atom_matrix = np.array(list(map(encode_atom, (atom for atom in m.GetAtoms()))))\n",
    "    adj_matrix = AllChem.GetAdjacencyMatrix(m) + np.identity(m.GetNumAtoms()) # Augmented Adjacency Matrix\n",
    "\n",
    "    return(atom_matrix, adj_matrix, m.GetNumAtoms())"
   ]
  },
  {
   "cell_type": "markdown",
   "metadata": {
    "cell_id": "8f3ec9e161a641ff9da69d53e235f7b0",
    "deepnote_app_coordinates": {
     "h": 5,
     "w": 12,
     "x": 0,
     "y": 24
    },
    "deepnote_cell_type": "markdown",
    "id": "I4ux0F9jBYty",
    "tags": []
   },
   "source": [
    "We can load in the ESOL data and verify that our function is operational on the first molecule, amigdalin:"
   ]
  },
  {
   "cell_type": "code",
   "execution_count": 4,
   "metadata": {
    "cell_id": "fb48eb2418454d96865063cd09bfc558",
    "deepnote_app_coordinates": {
     "h": 5,
     "w": 12,
     "x": 0,
     "y": 30
    },
    "deepnote_cell_type": "code",
    "deepnote_to_be_reexecuted": false,
    "execution_millis": 32,
    "execution_start": 1635376753033,
    "id": "KU0r_0YOBYty",
    "outputId": "37248c73-04a1-4e17-bf94-9cd343812d86",
    "source_hash": "669a5279",
    "tags": []
   },
   "outputs": [
    {
     "name": "stdout",
     "output_type": "stream",
     "text": [
      "[O-][N+](=O)C1C=CC(Cl)=CC=1\n",
      "14\n"
     ]
    }
   ],
   "source": [
    "esol_data = pd.read_csv(DATA_DIR + 'clean_data.csv')\n",
    "amigdalin = esol_data['Canonical_QSARr'][0]\n",
    "print(amigdalin)\n",
    "print(generate_graph(amigdalin)[2])"
   ]
  },
  {
   "cell_type": "markdown",
   "metadata": {
    "cell_id": "b90d93e95e8d42909d3031e703392e5a",
    "deepnote_app_coordinates": {
     "h": 5,
     "w": 12,
     "x": 0,
     "y": 36
    },
    "deepnote_cell_type": "markdown",
    "id": "HrCl7jRgBYtz",
    "tags": []
   },
   "source": [
    "Recall that one of the inconveniences of the standard GCN approach for molecular-level features is that we must concatenate the atomic features of ALL molecules in our data into one huge matrix, and concatenate the adjacency matrices of ALL molecules in our data into one huge, block-diagonal adjacency matrix. For convenience, we'll also generate a mask matrix that will allow you to sum-aggregate atom features by molecule through simple matrix multiplication.\n",
    "\n",
    "If we do this for the ESOL data (about 15,000 atoms), we'll run into memory issues on Deepnote. Below, we construct these matrices for just the first 100 molecules in ESOL."
   ]
  },
  {
   "cell_type": "code",
   "execution_count": 16,
   "metadata": {
    "cell_id": "4e948bd126c745e8acae57215f6fc3cf",
    "deepnote_app_coordinates": {
     "h": 5,
     "w": 12,
     "x": 0,
     "y": 42
    },
    "deepnote_cell_type": "code",
    "deepnote_to_be_reexecuted": false,
    "execution_millis": 88,
    "execution_start": 1635376753072,
    "id": "rw177gK7BYtz",
    "outputId": "7107ea07-abc1-4c66-988e-66f67dcc7a37",
    "source_hash": "6c87e116",
    "tags": []
   },
   "outputs": [
    {
     "name": "stdout",
     "output_type": "stream",
     "text": [
      "(2658, 10)\n",
      "(2658, 2658)\n",
      "torch.Size([100, 2658])\n"
     ]
    }
   ],
   "source": [
    "n_samples = 100\n",
    "\n",
    "feature_matrices = []\n",
    "adj_matrices = []\n",
    "molecule_membership = []\n",
    "for i in range(n_samples):\n",
    "    feature_matrix, adj_matrix, n_atoms = generate_graph(esol_data['Canonical_QSARr'][i])\n",
    "    feature_matrices.append(feature_matrix)\n",
    "    adj_matrices.append(adj_matrix)\n",
    "    molecule_membership = np.concatenate((molecule_membership, [i]*n_atoms))\n",
    "\n",
    "big_feature_matrix = np.concatenate(feature_matrices, axis = 0)\n",
    "print(np.shape(big_feature_matrix))\n",
    "\n",
    "big_adj_matrix = linalg.block_diag(*adj_matrices)\n",
    "print(np.shape(big_adj_matrix))\n",
    "\n",
    "masks = torch.tensor(np.array([np.where(molecule_membership == i, 1, 0) for i in range(n_samples)])).double()\n",
    "print(np.shape(masks))"
   ]
  },
  {
   "cell_type": "markdown",
   "metadata": {
    "cell_id": "42ff8bee72794fdbb2eb8fd5c2e1aa7b",
    "deepnote_app_coordinates": {
     "h": 5,
     "w": 12,
     "x": 0,
     "y": 48
    },
    "deepnote_cell_type": "markdown",
    "id": "kKZRUojKBYtz",
    "tags": []
   },
   "source": [
    "### Exercise 1: Writing a GCN Module\n",
    "\n",
    "Below, write a torch module that will output molecule-level solubility predictions for each molecule contained in the ESOL data set. This should consist of three GCN layers, an aggregation of each molecules' atom features, and a final linear layer to predict solubility (see Lecture 6 for more detail).\n",
    "\n",
    "(Pro Tip: You can calculate the normalized graph laplacian once, outside of the module, and pass it to the module as an argument, if you choose.)"
   ]
  },
  {
   "cell_type": "code",
   "execution_count": 17,
   "metadata": {
    "cell_id": "1f7d68b74df5422580d15c11c20e0259",
    "deepnote_app_coordinates": {
     "h": 5,
     "w": 12,
     "x": 0,
     "y": 54
    },
    "deepnote_cell_type": "code",
    "deepnote_to_be_reexecuted": false,
    "execution_millis": 19,
    "execution_start": 1635376753175,
    "id": "9Pn3A6O7BYtz",
    "source_hash": "9fd0bf",
    "tags": []
   },
   "outputs": [],
   "source": [
    "### Optional Preprocessing Here ###\n",
    "degree_vector = np.sum(big_adj_matrix, axis=1)\n",
    "degree_vector = np.diag(1/np.sqrt(degree_vector))\n",
    "D = torch.tensor(degree_vector)\n",
    "A = torch.tensor(big_adj_matrix)\n",
    "norm_graph_laplacian = D @ A @ D\n",
    "\n",
    "class SolNet(torch.nn.Module):\n",
    "    def __init__(\n",
    "            self, \n",
    "            laplacian, \n",
    "            molecule_masks, \n",
    "            input_size = 10, \n",
    "            internal_size = 10, \n",
    "            output_size = 1, \n",
    "            num_conv_layers = 3, \n",
    "            activation_function=torch.nn.functional.relu\n",
    "        ):\n",
    "        super().__init__()\n",
    "        ### Your Code Here ###\n",
    "        self.laplacian = laplacian\n",
    "        self.masks = molecule_masks\n",
    "        self.W0 = torch.nn.Parameter(0.1*torch.randn((input_size, internal_size)))\n",
    "        self.W1 = torch.nn.Parameter(0.1*torch.randn((internal_size, internal_size)))\n",
    "        self.W2 = torch.nn.Parameter(0.1*torch.randn((internal_size, internal_size)))\n",
    "        self.W3 = torch.nn.Parameter(0.1*torch.randn((internal_size, output_size)))\n",
    "        self.activation_function = activation_function\n",
    "        \n",
    "\n",
    "    def forward(self, x):\n",
    "        \"\"\"Computes the prediction of the neural network\"\"\"\n",
    "        ### Your Code Here ###\n",
    "        x = self.activation_function(self.laplacian.double() @ x @ self.W0.double())\n",
    "        x = self.activation_function(self.laplacian.double() @ x @ self.W1.double())\n",
    "        x = self.activation_function(self.laplacian.double() @ x @ self.W2.double())\n",
    "        x = self.masks @ x\n",
    "        y = x @ self.W3.double()\n",
    "\n",
    "        return y"
   ]
  },
  {
   "cell_type": "markdown",
   "metadata": {
    "cell_id": "e8a8e43ae0414f0b9ec3e9551c4d93b8",
    "deepnote_app_coordinates": {
     "h": 5,
     "w": 12,
     "x": 0,
     "y": 60
    },
    "deepnote_cell_type": "markdown",
    "id": "SYA_ffdWBYt0",
    "tags": []
   },
   "source": [
    "Now that you've created a module for predicting solubilities, let's train it!\n",
    "\n",
    "Recall that in this block GCN implementation, we take a 'semi-supervised' learning approach. That is, we train using the block matrices will ALL of our data, but we only label SOME of the target values. We calculate gradients based off of the loss on the labelled data, and use the loss on the unlabelled data as our 'test' performance.\n",
    "\n",
    "Below, the targets are created for you, and indices representing a 66%/33% train-test split are generated for your use."
   ]
  },
  {
   "cell_type": "code",
   "execution_count": 18,
   "metadata": {
    "cell_id": "e0c6f90220814866b4d0611169091238",
    "deepnote_app_coordinates": {
     "h": 5,
     "w": 12,
     "x": 0,
     "y": 66
    },
    "deepnote_cell_type": "code",
    "deepnote_to_be_reexecuted": false,
    "execution_millis": 17,
    "execution_start": 1635376753209,
    "id": "46QxWvP-BYt0",
    "source_hash": "6344da52",
    "tags": []
   },
   "outputs": [],
   "source": [
    "## Create Targets\n",
    "targets = torch.tensor(esol_data['LD50_mgkg'][:n_samples])\n",
    "\n",
    "# Only train on 2/3 of points\n",
    "labelled_indices = np.random.choice(np.arange(n_samples), int(2*n_samples/3), replace = False)\n",
    "unlabelled_indices = np.setdiff1d(np.arange(n_samples), labelled_indices)"
   ]
  },
  {
   "cell_type": "markdown",
   "metadata": {
    "cell_id": "a0d4b4cc32b641fe95f1162216398e3a",
    "deepnote_app_coordinates": {
     "h": 5,
     "w": 12,
     "x": 0,
     "y": 72
    },
    "deepnote_cell_type": "markdown",
    "id": "Rm56ggvoBYt0",
    "tags": []
   },
   "source": [
    "### Exercise 2: Training your GCN model on the ESOL data\n",
    "\n",
    "Below, train your model on the ESOL solubility targets. Plot the train and test losses as training progresses, and report the final (MSE) train and test loss for your model. Make a comparison to the Random Forest model that we used in Practical 2.\n",
    "\n",
    "(Note that this will be an imperfect comparison because we are only using a subset of the data)"
   ]
  },
  {
   "cell_type": "code",
   "execution_count": 19,
   "metadata": {
    "cell_id": "6f620913e04940ba98a702c703ee4c7a",
    "deepnote_app_coordinates": {
     "h": 5,
     "w": 12,
     "x": 0,
     "y": 78
    },
    "deepnote_cell_type": "code",
    "deepnote_to_be_reexecuted": false,
    "execution_millis": 17,
    "execution_start": 1635376753246,
    "id": "RbkfZkWKBYt0",
    "source_hash": "ef613b74",
    "tags": []
   },
   "outputs": [
    {
     "name": "stderr",
     "output_type": "stream",
     "text": [
      "/var/folders/km/cvdycj097l576cncjdnqjchr0000gn/T/ipykernel_10964/2553096703.py:33: DeprecationWarning: __array_wrap__ must accept context and return_scalar arguments (positionally) in the future. (Deprecated NumPy 2.0)\n",
      "  x = self.activation_function(self.laplacian.double() @ x @ self.W0.double())\n"
     ]
    },
    {
     "name": "stdout",
     "output_type": "stream",
     "text": [
      "Epoch 0 | Train Loss: 7983022.56597 Test Loss: 48231661.85765\n",
      "Epoch 10 | Train Loss: 7978097.56590 Test Loss: 48220788.71276\n",
      "Epoch 20 | Train Loss: 7911711.15183 Test Loss: 48075641.72752\n",
      "Epoch 30 | Train Loss: 7543290.56211 Test Loss: 47258721.11899\n",
      "Epoch 40 | Train Loss: 6347128.70483 Test Loss: 44389734.32440\n",
      "Epoch 50 | Train Loss: 4546941.51798 Test Loss: 38033187.05905\n",
      "Epoch 60 | Train Loss: 4596436.61970 Test Loss: 34619679.91031\n",
      "Epoch 70 | Train Loss: 4344596.21829 Test Loss: 37078946.34497\n",
      "Epoch 80 | Train Loss: 4265342.04175 Test Loss: 36744622.47868\n",
      "Epoch 90 | Train Loss: 4196627.80377 Test Loss: 35744812.25227\n",
      "Epoch 100 | Train Loss: 4117089.82184 Test Loss: 36183110.49195\n",
      "Epoch 110 | Train Loss: 4040644.15863 Test Loss: 36123725.83806\n",
      "Epoch 120 | Train Loss: 3954764.63589 Test Loss: 35864234.02231\n",
      "Epoch 130 | Train Loss: 3854355.58521 Test Loss: 35950389.21918\n",
      "Epoch 140 | Train Loss: 3734816.37748 Test Loss: 35881948.83631\n",
      "Epoch 150 | Train Loss: 3589151.47248 Test Loss: 35892524.99707\n",
      "Epoch 160 | Train Loss: 3415631.57391 Test Loss: 36014007.26722\n",
      "Epoch 170 | Train Loss: 3231497.95780 Test Loss: 36156025.17728\n",
      "Epoch 180 | Train Loss: 3065873.61312 Test Loss: 36580292.92849\n",
      "Epoch 190 | Train Loss: 2945953.85068 Test Loss: 37029916.78815\n",
      "Epoch 200 | Train Loss: 2876386.18423 Test Loss: 37435420.92410\n",
      "Epoch 210 | Train Loss: 2830541.85380 Test Loss: 37604374.44238\n",
      "Epoch 220 | Train Loss: 2791761.84438 Test Loss: 37450276.03525\n",
      "Epoch 230 | Train Loss: 2755573.75883 Test Loss: 37253547.61621\n",
      "Epoch 240 | Train Loss: 2725812.41582 Test Loss: 36972345.68787\n",
      "Epoch 250 | Train Loss: 2702016.40010 Test Loss: 36806888.06342\n",
      "Epoch 260 | Train Loss: 2683477.44741 Test Loss: 36642637.12589\n",
      "Epoch 270 | Train Loss: 2672310.83230 Test Loss: 36518520.50464\n",
      "Epoch 280 | Train Loss: 2665141.99988 Test Loss: 36455036.23297\n",
      "Epoch 290 | Train Loss: 2660665.35417 Test Loss: 36357255.11921\n",
      "Epoch 300 | Train Loss: 2657426.30438 Test Loss: 36296847.56252\n",
      "Epoch 310 | Train Loss: 2654313.08940 Test Loss: 36256610.47693\n",
      "Epoch 320 | Train Loss: 2650935.73321 Test Loss: 36241926.37110\n",
      "Epoch 330 | Train Loss: 2647792.72773 Test Loss: 36222377.73585\n",
      "Epoch 340 | Train Loss: 2643950.38432 Test Loss: 36161969.66438\n",
      "Epoch 350 | Train Loss: 2638750.99876 Test Loss: 36158909.55336\n",
      "Epoch 360 | Train Loss: 2633032.85149 Test Loss: 36168844.11026\n",
      "Epoch 370 | Train Loss: 2627949.57982 Test Loss: 36123503.23726\n",
      "Epoch 380 | Train Loss: 2622946.75790 Test Loss: 36125697.64714\n",
      "Epoch 390 | Train Loss: 2615377.91679 Test Loss: 36134859.68032\n",
      "Epoch 400 | Train Loss: 2605194.75563 Test Loss: 36212671.01374\n",
      "Epoch 410 | Train Loss: 2596280.08571 Test Loss: 36283425.07185\n",
      "Epoch 420 | Train Loss: 2585083.62178 Test Loss: 36290182.20973\n",
      "Epoch 430 | Train Loss: 2572823.81782 Test Loss: 36385577.85697\n",
      "Epoch 440 | Train Loss: 2560616.83625 Test Loss: 36588522.98580\n",
      "Epoch 450 | Train Loss: 2546613.99892 Test Loss: 36638847.76414\n",
      "Epoch 460 | Train Loss: 2530450.36060 Test Loss: 36697944.38419\n",
      "Epoch 470 | Train Loss: 2513208.67954 Test Loss: 36789605.15718\n",
      "Epoch 480 | Train Loss: 2495141.66526 Test Loss: 36910085.69183\n",
      "Epoch 490 | Train Loss: 2475587.02159 Test Loss: 36794586.17597\n",
      "Epoch 500 | Train Loss: 2454746.82515 Test Loss: 36686527.90821\n",
      "Epoch 510 | Train Loss: 2430689.36485 Test Loss: 36729053.49723\n",
      "Epoch 520 | Train Loss: 2406435.27269 Test Loss: 36617362.16843\n",
      "Epoch 530 | Train Loss: 2378981.97335 Test Loss: 36795422.27225\n",
      "Epoch 540 | Train Loss: 2347814.18886 Test Loss: 36735093.84170\n",
      "Epoch 550 | Train Loss: 2312109.17321 Test Loss: 36577935.39416\n",
      "Epoch 560 | Train Loss: 2268374.43389 Test Loss: 36425326.37510\n",
      "Epoch 570 | Train Loss: 2211220.16444 Test Loss: 36533553.19811\n",
      "Epoch 580 | Train Loss: 2156539.41428 Test Loss: 36338231.62519\n",
      "Epoch 590 | Train Loss: 2103835.09078 Test Loss: 36377453.92072\n",
      "Epoch 600 | Train Loss: 2052237.95508 Test Loss: 36161335.44278\n",
      "Epoch 610 | Train Loss: 2004830.76834 Test Loss: 36296844.22607\n",
      "Epoch 620 | Train Loss: 1957299.07216 Test Loss: 36114076.38158\n",
      "Epoch 630 | Train Loss: 1907794.24123 Test Loss: 36125347.92895\n",
      "Epoch 640 | Train Loss: 1861911.39867 Test Loss: 36414387.69881\n",
      "Epoch 650 | Train Loss: 1808886.13998 Test Loss: 36265679.47271\n",
      "Epoch 660 | Train Loss: 1751592.28274 Test Loss: 36293232.31888\n",
      "Epoch 670 | Train Loss: 1698440.76902 Test Loss: 36215528.93353\n",
      "Epoch 680 | Train Loss: 1659439.28711 Test Loss: 36283031.74943\n",
      "Epoch 690 | Train Loss: 1623693.89327 Test Loss: 36412131.33963\n",
      "Epoch 700 | Train Loss: 1590625.64731 Test Loss: 36384490.41242\n",
      "Epoch 710 | Train Loss: 1565785.88029 Test Loss: 36306818.11460\n",
      "Epoch 720 | Train Loss: 1537720.66707 Test Loss: 36020684.88932\n",
      "Epoch 730 | Train Loss: 1516283.09676 Test Loss: 35964329.73739\n",
      "Epoch 740 | Train Loss: 1499012.45435 Test Loss: 35933689.05257\n",
      "Epoch 750 | Train Loss: 1485826.11609 Test Loss: 36339769.04880\n",
      "Epoch 760 | Train Loss: 1474036.79524 Test Loss: 36350872.36172\n",
      "Epoch 770 | Train Loss: 1463875.54170 Test Loss: 36148006.46052\n",
      "Epoch 780 | Train Loss: 1454811.39024 Test Loss: 36352268.88919\n",
      "Epoch 790 | Train Loss: 1446412.07135 Test Loss: 36472074.35268\n",
      "Epoch 800 | Train Loss: 1439386.46484 Test Loss: 36542814.06060\n",
      "Epoch 810 | Train Loss: 1429890.07818 Test Loss: 36314343.96584\n",
      "Epoch 820 | Train Loss: 1421758.97302 Test Loss: 36654152.09056\n",
      "Epoch 830 | Train Loss: 1414361.61094 Test Loss: 36692587.33051\n",
      "Epoch 840 | Train Loss: 1405384.37536 Test Loss: 36565051.31055\n",
      "Epoch 850 | Train Loss: 1394480.84858 Test Loss: 36690671.09177\n",
      "Epoch 860 | Train Loss: 1385421.65772 Test Loss: 36754903.51015\n",
      "Epoch 870 | Train Loss: 1377924.25183 Test Loss: 36688698.51743\n",
      "Epoch 880 | Train Loss: 1368077.91596 Test Loss: 36797865.47689\n",
      "Epoch 890 | Train Loss: 1360580.87337 Test Loss: 37021467.42385\n",
      "Epoch 900 | Train Loss: 1353605.21048 Test Loss: 37013424.48722\n",
      "Epoch 910 | Train Loss: 1347403.07282 Test Loss: 36954833.68463\n",
      "Epoch 920 | Train Loss: 1341182.30772 Test Loss: 37083446.33441\n",
      "Epoch 930 | Train Loss: 1335720.12157 Test Loss: 37096979.57496\n",
      "Epoch 940 | Train Loss: 1331013.75746 Test Loss: 37030829.57492\n",
      "Epoch 950 | Train Loss: 1325445.77174 Test Loss: 37167698.78305\n",
      "Epoch 960 | Train Loss: 1320654.05997 Test Loss: 37163740.32230\n",
      "Epoch 970 | Train Loss: 1316525.85196 Test Loss: 37263941.60408\n",
      "Epoch 980 | Train Loss: 1311448.33258 Test Loss: 37232874.57284\n",
      "Epoch 990 | Train Loss: 1307854.52018 Test Loss: 37376119.29754\n"
     ]
    },
    {
     "data": {
      "image/png": "[encoded data removed]",
      "text/plain": [
       "<Figure size 640x480 with 1 Axes>"
      ]
     },
     "metadata": {},
     "output_type": "display_data"
    },
    {
     "name": "stdout",
     "output_type": "stream",
     "text": [
      "Final Train Loss: 1303405.93833 | Final Test Loss: 37387704.75469\n"
     ]
    }
   ],
   "source": [
    "### Train your model here (You can use a very similar approach to the one used in previous practicals) ###\n",
    "model = SolNet(norm_graph_laplacian, masks)\n",
    "\n",
    "criterion = torch.nn.MSELoss()\n",
    "optimizer = torch.optim.Adam(model.parameters(), lr=0.01)\n",
    "train_losses = []\n",
    "test_losses = []\n",
    "num_epochs = 1000\n",
    "\n",
    "for epoch in range(num_epochs):\n",
    "    optimizer.zero_grad()\n",
    "    preds = model(big_feature_matrix).squeeze()\n",
    "    train_loss = criterion(preds[labelled_indices], targets[labelled_indices])\n",
    "    train_loss.backward()\n",
    "    optimizer.step()\n",
    "    train_losses.append(train_loss.detach().numpy())\n",
    "\n",
    "    test_loss = criterion(preds[unlabelled_indices], targets[unlabelled_indices])\n",
    "    test_losses.append(test_loss.item())\n",
    "\n",
    "    if epoch % 10 == 0:\n",
    "        print(f'Epoch {epoch} | Train Loss: {train_loss:.5f} Test Loss: {test_loss:.5f}')\n",
    "\n",
    "plt.plot(train_losses, label='Train Loss')\n",
    "plt.plot(test_losses, label='Test Loss')\n",
    "plt.legend()\n",
    "plt.show()\n",
    "# Print final train and test loss (5 decimal places)\n",
    "print(f\"Final Train Loss: {train_losses[-1]:.5f} | Final Test Loss: {test_losses[-1]:.5f}\")\n"
   ]
  },
  {
   "cell_type": "markdown",
   "metadata": {
    "cell_id": "25c322943f954ff394f790cee78b8865",
    "deepnote_app_coordinates": {
     "h": 5,
     "w": 12,
     "x": 0,
     "y": 84
    },
    "deepnote_cell_type": "markdown",
    "id": "ZiuyHw3JBYt0",
    "tags": []
   },
   "source": [
    "## Part 2: Supervised Learning with Message Passing\n",
    "\n",
    "The GCN architecture as implemented above is a little clunky; it deals with huge matrices and generalizes poorly due to the fact that we are limited to a 'full batch' approach. In lecture, we discussed a message passing approach that learns a transformation involving local graph information that can be deployed on unobserved graphs.\n",
    "\n",
    "One aspect of this message passing framework as presented in lecture was an embedding in 3-dimensional coordinates to preserve physical invariances. For the sake of simplicity, we will not do that here, and instead only focus on message passing on static graphs."
   ]
  },
  {
   "cell_type": "markdown",
   "metadata": {
    "cell_id": "b13da62ada4047539364c1aa44e57edf",
    "deepnote_app_coordinates": {
     "h": 5,
     "w": 12,
     "x": 0,
     "y": 90
    },
    "deepnote_cell_type": "markdown",
    "deepnote_to_be_reexecuted": false,
    "execution_millis": 4,
    "execution_start": 1635373052012,
    "id": "j42YLDURBYt0",
    "source_hash": "b623e53d",
    "tags": []
   },
   "source": [
    "### Exercise 3: Writing a Message Passing Module\n",
    "\n",
    "Below, implement a PyTorch module that performs a simple message passing transformation as discussed in class. As a reminder, the message passing layer should:\n",
    "\n",
    "1. For each atom in the molecule, compute a 'message' recieved from each atomic neighbor based on the current node features of the two neighboring atoms\n",
    "2. Compose the incoming messages into a single, aggregated message\n",
    "3. Update the node features of the atom based on the current features and the aggregated message\n",
    "\n",
    "For molecule-level predictions, you can then compose all atom-level features and pass through a fully-connected layer to produce an output."
   ]
  },
  {
   "cell_type": "code",
   "execution_count": 12,
   "metadata": {
    "cell_id": "c7344e1dc7234961ad0582342db4265d",
    "deepnote_app_coordinates": {
     "h": 5,
     "w": 12,
     "x": 0,
     "y": 96
    },
    "deepnote_cell_type": "code",
    "deepnote_to_be_reexecuted": false,
    "execution_millis": 66,
    "execution_start": 1635376753274,
    "id": "FhHId6fbBYt0",
    "source_hash": "b2ccae9d",
    "tags": []
   },
   "outputs": [],
   "source": [
    "class MPNet(torch.nn.Module):\n",
    "    def __init__(self, n_features, activation_function=torch.nn.functional.relu):\n",
    "        super().__init__()\n",
    "        ### Your code here ###\n",
    "        self.n_features = n_features\n",
    "        self.activation_function = activation_function\n",
    "\n",
    "        self.W1 = torch.nn.Parameter(0.1*torch.randn((n_features*2, n_features)))\n",
    "        self.b1 = torch.nn.Parameter(0.1*torch.randn(n_features))\n",
    "        self.W2 = torch.nn.Parameter(0.1*torch.randn((n_features*2, n_features)))\n",
    "        self.b2 = torch.nn.Parameter(0.1*torch.randn(n_features))\n",
    "        self.W3 = torch.nn.Parameter(0.1*torch.randn((n_features, 1)))\n",
    "\n",
    "    def forward(self, feats, adj):\n",
    "        \"\"\"Computes the prediction of the neural network\"\"\"\n",
    "        ### Your code here ###\n",
    "        messages = torch.stack(\n",
    "            [\n",
    "                sum(\n",
    "                    [\n",
    "                        self.activation_function(torch.hstack((feats[i], feats[j])) @ self.W1 + self.b1) for j in np.where(adj[i]==1)[0]\n",
    "                    ]\n",
    "                ) for i in range(len(feats))\n",
    "            ]\n",
    "        )\n",
    "\n",
    "        feats = self.activation_function(torch.hstack((feats, messages)) @ self.W2 + self.b2)\n",
    "\n",
    "        y = torch.sum(feats, axis=0) @ self.W3\n",
    "        return y"
   ]
  },
  {
   "cell_type": "markdown",
   "metadata": {
    "cell_id": "fe76b7a024bf44698a6725bbaa17e725",
    "deepnote_app_coordinates": {
     "h": 5,
     "w": 12,
     "x": 0,
     "y": 102
    },
    "deepnote_cell_type": "markdown",
    "id": "1K6lc5YSBYt0",
    "tags": []
   },
   "source": [
    "### Exercise 4: Training your Message Passing Network on ESOL\n",
    "\n",
    "Repeat the procedure for Exercise 2, this time using your message passing framework on the same 100-graph subset of the ESOL data (you can use the same 'train/test split' as given above, though it will function slightly differently now that we are doing regular supervised learning). Compare the performance to that of the GCN."
   ]
  },
  {
   "cell_type": "code",
   "execution_count": 15,
   "metadata": {
    "cell_id": "d4d4ecb7ac0946449685be11e3ce5c8f",
    "deepnote_app_coordinates": {
     "h": 5,
     "w": 12,
     "x": 0,
     "y": 108
    },
    "deepnote_cell_type": "code",
    "deepnote_to_be_reexecuted": false,
    "execution_millis": 0,
    "execution_start": 1635376753340,
    "id": "3pBFV4J0BYt0",
    "source_hash": "ef613b74",
    "tags": []
   },
   "outputs": [
    {
     "name": "stdout",
     "output_type": "stream",
     "text": [
      "Epoch 0 | Train Loss: 3800749.69197 Test Loss: 2528760.10926\n",
      "Epoch 10 | Train Loss: 3774436.26644 Test Loss: 2505157.75771\n",
      "Epoch 20 | Train Loss: 3588325.02978 Test Loss: 2349658.75738\n",
      "Epoch 30 | Train Loss: 2941616.98502 Test Loss: 1846796.17144\n",
      "Epoch 40 | Train Loss: 1728305.51350 Test Loss: 1031212.30600\n",
      "Epoch 50 | Train Loss: 1136049.17384 Test Loss: 902531.08536\n",
      "Epoch 60 | Train Loss: 1117594.27729 Test Loss: 896394.92425\n",
      "Epoch 70 | Train Loss: 1036849.90711 Test Loss: 830146.79844\n",
      "Epoch 80 | Train Loss: 983317.04959 Test Loss: 847074.64308\n",
      "Epoch 90 | Train Loss: 942639.18207 Test Loss: 883075.37891\n",
      "Epoch 100 | Train Loss: 899177.64465 Test Loss: 869517.42490\n",
      "Epoch 110 | Train Loss: 858701.24807 Test Loss: 871801.06239\n",
      "Epoch 120 | Train Loss: 815928.90133 Test Loss: 888147.82176\n",
      "Epoch 130 | Train Loss: 772624.76572 Test Loss: 893342.98402\n",
      "Epoch 140 | Train Loss: 730430.07039 Test Loss: 901149.64872\n",
      "Epoch 150 | Train Loss: 693593.81812 Test Loss: 912502.26528\n",
      "Epoch 160 | Train Loss: 662930.11069 Test Loss: 916870.56805\n",
      "Epoch 170 | Train Loss: 636107.35069 Test Loss: 920786.35682\n",
      "Epoch 180 | Train Loss: 611546.76368 Test Loss: 928184.23132\n",
      "Epoch 190 | Train Loss: 589786.75675 Test Loss: 938415.66361\n",
      "Epoch 200 | Train Loss: 571187.43156 Test Loss: 949396.82707\n",
      "Epoch 210 | Train Loss: 555819.56075 Test Loss: 962226.90776\n",
      "Epoch 220 | Train Loss: 543759.78961 Test Loss: 976293.61187\n",
      "Epoch 230 | Train Loss: 534377.94135 Test Loss: 990426.82382\n",
      "Epoch 240 | Train Loss: 526903.99127 Test Loss: 1004889.66106\n",
      "Epoch 250 | Train Loss: 520588.10456 Test Loss: 1021112.07361\n",
      "Epoch 260 | Train Loss: 514964.16057 Test Loss: 1038042.40990\n",
      "Epoch 270 | Train Loss: 509691.97150 Test Loss: 1057327.37277\n",
      "Epoch 280 | Train Loss: 504550.98096 Test Loss: 1076607.44343\n",
      "Epoch 290 | Train Loss: 499448.49261 Test Loss: 1099095.00655\n",
      "Epoch 300 | Train Loss: 494301.01775 Test Loss: 1122690.02050\n",
      "Epoch 310 | Train Loss: 489016.39207 Test Loss: 1149234.56379\n",
      "Epoch 320 | Train Loss: 484351.49108 Test Loss: 1176282.02437\n",
      "Epoch 330 | Train Loss: 479805.95719 Test Loss: 1199191.02035\n",
      "Epoch 340 | Train Loss: 475383.83843 Test Loss: 1226877.00641\n",
      "Epoch 350 | Train Loss: 471679.81603 Test Loss: 1248041.26915\n",
      "Epoch 360 | Train Loss: 468046.37041 Test Loss: 1267895.52819\n",
      "Epoch 370 | Train Loss: 464234.31067 Test Loss: 1290165.16732\n",
      "Epoch 380 | Train Loss: 460425.46384 Test Loss: 1307505.01490\n",
      "Epoch 390 | Train Loss: 456275.27726 Test Loss: 1327699.91152\n",
      "Epoch 400 | Train Loss: 452344.47021 Test Loss: 1346259.50336\n",
      "Epoch 410 | Train Loss: 449362.72569 Test Loss: 1356019.16430\n",
      "Epoch 420 | Train Loss: 447054.29642 Test Loss: 1356517.92786\n",
      "Epoch 430 | Train Loss: 444646.41755 Test Loss: 1359759.69385\n",
      "Epoch 440 | Train Loss: 441982.61043 Test Loss: 1362586.44751\n",
      "Epoch 450 | Train Loss: 439086.39564 Test Loss: 1363281.55043\n",
      "Epoch 460 | Train Loss: 435945.13626 Test Loss: 1365613.54702\n",
      "Epoch 470 | Train Loss: 432508.26910 Test Loss: 1369271.96619\n",
      "Epoch 480 | Train Loss: 428768.28642 Test Loss: 1371428.12751\n",
      "Epoch 490 | Train Loss: 424803.15139 Test Loss: 1375378.80620\n",
      "Epoch 500 | Train Loss: 420538.00616 Test Loss: 1379342.44148\n",
      "Epoch 510 | Train Loss: 416163.52429 Test Loss: 1384419.61376\n",
      "Epoch 520 | Train Loss: 412087.76340 Test Loss: 1386687.86775\n",
      "Epoch 530 | Train Loss: 407552.05825 Test Loss: 1386770.15010\n",
      "Epoch 540 | Train Loss: 402272.16435 Test Loss: 1388532.64532\n",
      "Epoch 550 | Train Loss: 396136.72289 Test Loss: 1389530.90920\n",
      "Epoch 560 | Train Loss: 388970.40049 Test Loss: 1393577.60468\n",
      "Epoch 570 | Train Loss: 380919.04819 Test Loss: 1401864.33891\n",
      "Epoch 580 | Train Loss: 372194.20582 Test Loss: 1411435.22270\n",
      "Epoch 590 | Train Loss: 362911.88514 Test Loss: 1424768.77900\n",
      "Epoch 600 | Train Loss: 353066.73360 Test Loss: 1435322.93836\n",
      "Epoch 610 | Train Loss: 342997.83607 Test Loss: 1451336.84316\n",
      "Epoch 620 | Train Loss: 332494.14232 Test Loss: 1467722.14195\n",
      "Epoch 630 | Train Loss: 321729.94170 Test Loss: 1485574.06449\n",
      "Epoch 640 | Train Loss: 310439.50179 Test Loss: 1504948.72998\n",
      "Epoch 650 | Train Loss: 298068.54205 Test Loss: 1526072.20555\n",
      "Epoch 660 | Train Loss: 284345.27380 Test Loss: 1550258.07510\n",
      "Epoch 670 | Train Loss: 268623.26542 Test Loss: 1579426.95923\n",
      "Epoch 680 | Train Loss: 251084.56837 Test Loss: 1615039.69523\n",
      "Epoch 690 | Train Loss: 231767.53125 Test Loss: 1655707.69504\n",
      "Epoch 700 | Train Loss: 211385.53488 Test Loss: 1706208.44554\n",
      "Epoch 710 | Train Loss: 190373.23974 Test Loss: 1763667.75588\n",
      "Epoch 720 | Train Loss: 169920.18020 Test Loss: 1828627.14978\n",
      "Epoch 730 | Train Loss: 151540.97316 Test Loss: 1911227.06988\n",
      "Epoch 740 | Train Loss: 135606.38859 Test Loss: 1997656.61307\n",
      "Epoch 750 | Train Loss: 121666.71305 Test Loss: 2101494.30003\n",
      "Epoch 760 | Train Loss: 110327.43140 Test Loss: 2210913.17099\n",
      "Epoch 770 | Train Loss: 101604.50227 Test Loss: 2309656.64946\n",
      "Epoch 780 | Train Loss: 94514.29879 Test Loss: 2432419.26573\n",
      "Epoch 790 | Train Loss: 88940.33241 Test Loss: 2558580.75312\n",
      "Epoch 800 | Train Loss: 85383.98605 Test Loss: 2651808.95522\n",
      "Epoch 810 | Train Loss: 83036.49562 Test Loss: 2721027.17003\n",
      "Epoch 820 | Train Loss: 81168.87946 Test Loss: 2780322.92478\n",
      "Epoch 830 | Train Loss: 79717.78096 Test Loss: 2825825.76682\n",
      "Epoch 840 | Train Loss: 78397.13891 Test Loss: 2852989.38217\n",
      "Epoch 850 | Train Loss: 77190.87013 Test Loss: 2867361.27451\n",
      "Epoch 860 | Train Loss: 75755.00955 Test Loss: 2876183.55344\n",
      "Epoch 870 | Train Loss: 74588.07078 Test Loss: 2891853.15714\n",
      "Epoch 880 | Train Loss: 73486.63922 Test Loss: 2912155.10671\n",
      "Epoch 890 | Train Loss: 72396.44209 Test Loss: 2941658.78133\n",
      "Epoch 900 | Train Loss: 71272.50557 Test Loss: 2978665.79711\n",
      "Epoch 910 | Train Loss: 70158.90947 Test Loss: 3006749.70197\n",
      "Epoch 920 | Train Loss: 69046.72317 Test Loss: 3038351.46802\n",
      "Epoch 930 | Train Loss: 68004.65458 Test Loss: 3068658.91521\n",
      "Epoch 940 | Train Loss: 67440.85723 Test Loss: 3104623.39902\n",
      "Epoch 950 | Train Loss: 66873.12821 Test Loss: 3138711.84559\n",
      "Epoch 960 | Train Loss: 66351.48696 Test Loss: 3168261.17710\n",
      "Epoch 970 | Train Loss: 65934.10879 Test Loss: 3182754.97235\n",
      "Epoch 980 | Train Loss: 65508.68337 Test Loss: 3186074.55252\n",
      "Epoch 990 | Train Loss: 65090.70690 Test Loss: 3183513.79877\n"
     ]
    },
    {
     "data": {
      "image/png": "[encoded data removed]",
      "text/plain": [
       "<Figure size 640x480 with 1 Axes>"
      ]
     },
     "metadata": {},
     "output_type": "display_data"
    },
    {
     "name": "stdout",
     "output_type": "stream",
     "text": [
      "Final Train Loss: 64710.53614 | Final Test Loss: 3181718.70185\n"
     ]
    }
   ],
   "source": [
    "### Train your model here (You can use a very similar approach to the one used in previous practicals) ###\n",
    "# Note that training here can be slow if your module is not sufficiently vectorized. It might\n",
    "# be helpful to reduce n_samples to make sure your architecture is working properly before trying to apply\n",
    "# to larger data.\n",
    "\n",
    "model = MPNet(10).double()\n",
    "num_epochs = 1000\n",
    "learning_rate = 0.01\n",
    "opt = torch.optim.Adam(model.parameters(), lr=learning_rate)\n",
    "all_train_loss = []\n",
    "all_test_loss = []\n",
    "\n",
    "for epoch in range(num_epochs):\n",
    "    epoch_loss = 0\n",
    "    for i in labelled_indices:\n",
    "        pred = model(torch.tensor(generate_graph(esol_data['Canonical_QSARr'][i])[0]), torch.tensor(generate_graph(esol_data['Canonical_QSARr'][i])[1]))\n",
    "        loss = torch.mean((pred - targets[i])**2)\n",
    "        epoch_loss += loss\n",
    "    opt.zero_grad()\n",
    "    epoch_loss.backward()\n",
    "    opt.step()\n",
    "    all_train_loss.append((epoch_loss/len(labelled_indices)).detach().numpy())\n",
    "\n",
    "    epoch_test_loss = 0\n",
    "    with torch.no_grad():\n",
    "        for i in unlabelled_indices:\n",
    "            pred = model(torch.tensor(generate_graph(esol_data['Canonical_QSARr'][i])[0]), torch.tensor(generate_graph(esol_data['Canonical_QSARr'][i])[1]))\n",
    "            loss = torch.mean((pred - targets[i])**2)\n",
    "            epoch_test_loss += loss\n",
    "    all_test_loss.append((epoch_test_loss/len(unlabelled_indices)).detach().numpy())\n",
    "    if epoch % 10 == 0:\n",
    "        print(f'Epoch {epoch} | Train Loss: {all_train_loss[-1]:.5f} Test Loss: {all_test_loss[-1]:.5f}')\n",
    "\n",
    "plt.plot(all_train_loss, label='Train Loss')\n",
    "plt.plot(all_test_loss, label='Test Loss')\n",
    "plt.legend()\n",
    "plt.show()\n",
    "# Print final train and test loss (5 decimal places)\n",
    "print(f\"Final Train Loss: {all_train_loss[-1]:.5f} | Final Test Loss: {all_test_loss[-1]:.5f}\")\n",
    "\n"
   ]
  },
  {
   "cell_type": "markdown",
   "metadata": {},
   "source": [
    "The test loss is smaller for the GCN."
   ]
  },
  {
   "cell_type": "code",
   "execution_count": null,
   "metadata": {},
   "outputs": [],
   "source": []
  }
 ],
 "metadata": {
  "colab": {
   "provenance": []
  },
  "deepnote_app_layout": "article",
  "deepnote_execution_queue": [],
  "deepnote_notebook_id": "ff3d14b09f014edc96230eab5b69527c",
  "kernelspec": {
   "display_name": "venv",
   "language": "python",
   "name": "python3"
  },
  "language_info": {
   "codemirror_mode": {
    "name": "ipython",
    "version": 3
   },
   "file_extension": ".py",
   "mimetype": "text/x-python",
   "name": "python",
   "nbconvert_exporter": "python",
   "pygments_lexer": "ipython3",
   "version": "3.10.7"
  }
 },
 "nbformat": 4,
 "nbformat_minor": 0
}
